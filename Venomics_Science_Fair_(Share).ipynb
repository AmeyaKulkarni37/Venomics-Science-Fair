{
 "cells": [
  {
   "cell_type": "markdown",
   "metadata": {
    "id": "Az6bOB46-FRc"
   },
   "source": [
    "# Machine Learning Application to Venomics"
   ]
  },
  {
   "cell_type": "markdown",
   "metadata": {
    "id": "bfpbHnv1ijdP"
   },
   "source": [
    "# Data Preprocessing"
   ]
  },
  {
   "cell_type": "code",
   "execution_count": 8,
   "metadata": {
    "colab": {
     "base_uri": "https://localhost:8080/"
    },
    "id": "8yNXuenZXv6y",
    "outputId": "3e9ee160-d623-4582-c065-9cdf73f515b6"
   },
   "outputs": [
    {
     "name": "stderr",
     "output_type": "stream",
     "text": [
      "UsageError: Line magic function `%tensorflow_version` not found.\n"
     ]
    }
   ],
   "source": [
    "%tensorflow_version 2.x"
   ]
  },
  {
   "cell_type": "code",
   "execution_count": 9,
   "metadata": {
    "colab": {
     "base_uri": "https://localhost:8080/"
    },
    "id": "3C9upR9dmwgD",
    "outputId": "8f42285b-ce14-4bf5-f7be-6722ab04c073"
   },
   "outputs": [
    {
     "name": "stdout",
     "output_type": "stream",
     "text": [
      "Importing libraries...\n",
      "Libraries imported!\n"
     ]
    }
   ],
   "source": [
    "print(\"Importing libraries...\")\n",
    "\n",
    "import tensorflow as tf\n",
    "import keras\n",
    "from keras.models import Sequential\n",
    "from keras.layers import Dense, Dropout, Flatten, Embedding\n",
    "from keras.layers import Conv2D, MaxPooling2D, Conv1D, MaxPooling1D\n",
    "from keras.preprocessing import image\n",
    "from keras.utils import pad_sequences\n",
    "from keras.utils import to_categorical\n",
    "from sklearn.metrics import confusion_matrix, multilabel_confusion_matrix, ConfusionMatrixDisplay, hamming_loss, classification_report\n",
    "import numpy as np\n",
    "from numpy import savetxt\n",
    "import pandas as pd\n",
    "import matplotlib.pyplot as plt\n",
    "from matplotlib.axis import Axis\n",
    "from sklearn.model_selection import train_test_split\n",
    "from tqdm import tqdm\n",
    "from keras.layers import BatchNormalization\n",
    "import sklearn.metrics as skm\n",
    "\n",
    "\n",
    "print(\"Libraries imported!\")"
   ]
  },
  {
   "cell_type": "code",
   "execution_count": 22,
   "metadata": {
    "id": "WUbp57ukIQgx"
   },
   "outputs": [],
   "source": [
    "# Import dataset\n",
    "\n",
    "# For reference, dataset can be found here: https://docs.google.com/spreadsheets/d/1MUG-_dfuUM8e-d6UD7SRk8XCUjNhcx2Z/edit?usp=sharing&ouid=102765027867641799867&rtpof=true&sd=true\n",
    "\n",
    "path='py_venomics_dataset.xlsx'\n",
    "df = pd.read_excel(path)\n",
    "df = df.drop([\"Molecular Function\"], axis=1)"
   ]
  },
  {
   "cell_type": "code",
   "execution_count": 23,
   "metadata": {
    "id": "tQKDqhSd8L7L"
   },
   "outputs": [],
   "source": [
    "# Creating the amino acid encoding dictionary and encoding function\n",
    "\n",
    "codes = ['A', 'C', 'D', 'E', 'F', 'G', 'H', 'I', 'K', 'L',\n",
    "         'M', 'N', 'P', 'Q', 'R', 'S', 'T', 'V', 'W', 'Y']\n",
    "\n",
    "def create_dict(codes):\n",
    "  char_dict = {}\n",
    "  for index, val in enumerate(codes):\n",
    "    char_dict[val] = index+1\n",
    "\n",
    "  return char_dict\n",
    "\n",
    "char_dict = create_dict(codes)\n",
    "\n",
    "def integer_encoding(data):\n",
    "  encode_list = []\n",
    "  for row in data['Sequence'].values:\n",
    "    row_encode = []\n",
    "    for code in row:\n",
    "      row_encode.append(char_dict.get(code, 0))\n",
    "    encode_list.append(np.array(row_encode))\n",
    "\n",
    "  return encode_list\n",
    "\n",
    "def test_encode(sequ):\n",
    "  ret_list = []\n",
    "  encoded_list= []\n",
    "  for code in sequ:\n",
    "    encoded_list.append(char_dict.get(code, 0))\n",
    "  ret_list.append(encoded_list)\n",
    "  ret_list = pad_sequences(ret_list, maxlen=max_length, padding='post', truncating='post')\n",
    "  return ret_list;"
   ]
  },
  {
   "cell_type": "code",
   "execution_count": 24,
   "metadata": {
    "id": "xf8H3lMqK3Oa"
   },
   "outputs": [],
   "source": [
    "# Padding amino acid sequences to 600 character length / truncating at 600\n",
    "\n",
    "df_encode = integer_encoding(df)\n",
    "max_length = 600\n",
    "df_pad = pad_sequences(df_encode, maxlen=max_length, padding='post', truncating='post')\n"
   ]
  },
  {
   "cell_type": "code",
   "execution_count": 25,
   "metadata": {
    "id": "i8vh8-EAscuk"
   },
   "outputs": [],
   "source": [
    "# Dropping original sequence column and replacing with padded sequences\n",
    "# Converting all columns to float32 to be used in neural network\n",
    "\n",
    "df = df.drop(['Sequence', 'GO:0005516.1'], axis=1)\n",
    "df = df.astype(np.float32)\n",
    "df_pad = pd.DataFrame(df_pad)\n",
    "result = pd.concat([df_pad, df], axis=1)"
   ]
  },
  {
   "cell_type": "code",
   "execution_count": 26,
   "metadata": {
    "id": "uDsgAKAekNsf"
   },
   "outputs": [],
   "source": [
    "# Split dataset into X(amino acid sequences) and Y(molecular function categories)\n",
    "\n",
    "x = result.drop(['GO:0090729', 'GO:0005179', 'GO:0016829',\n",
    "       'GO:0046872', 'GO:0008081', 'GO:0004867', 'GO:0099106', 'GO:0015459',\n",
    "       'GO:0004252', 'GO:0005246', 'GO:0004623', 'GO:0005509', 'GO:0008200',\n",
    "       'GO:0017080', 'GO:0019834', 'GO:0008270', 'GO:0030550', 'GO:0004222',\n",
    "       'GO:0052740', 'GO:0052739', 'GO:0008970', 'GO:0050025', 'GO:0050029',\n",
    "       'GO:0106329', 'GO:0008191', 'GO:0004620', 'GO:0008233', 'GO:0016504',\n",
    "       'GO:0060422', 'GO:0000166', 'GO:0106411', 'GO:0000287', 'GO:0008237',\n",
    "       'GO:0005102', 'GO:0005216', 'GO:0008201', 'GO:0008236', 'GO:0008289',\n",
    "       'GO:0019870', 'GO:0019871', 'GO:0004465', 'GO:0016491', 'GO:0042802',\n",
    "       'GO:0047498', 'GO:0048018', 'GO:0001515', 'GO:0001716', 'GO:0042803',\n",
    "       'GO:0003677', 'GO:0050660', 'GO:0003990', 'GO:0003993', 'GO:0004175',\n",
    "       'GO:0004177', 'GO:0004415', 'GO:0008239', 'GO:0004556', 'GO:0004860',\n",
    "       'GO:0004866', 'GO:0004869', 'GO:0005154', 'GO:0005184', 'GO:0005185',\n",
    "       'GO:0005507', 'GO:0005516', 'GO:0005520', 'GO:0005534', 'GO:0030395',\n",
    "       'GO:0033296', 'GO:0008061', 'GO:0008083', 'GO:0016603', 'GO:0016787',\n",
    "       'GO:0019855', 'GO:0003676', 'GO:0016853', 'GO:0017081', 'GO:0044325',\n",
    "       'GO:0030246', 'GO:0030414', 'GO:0033906', 'GO:0043262', 'GO:0048019',\n",
    "       'GO:0070320', 'GO:0080030', 'GO:0140628'], axis=1)\n",
    "\n",
    "y = df.drop(['Length','Mass'], axis=1)"
   ]
  },
  {
   "cell_type": "markdown",
   "metadata": {
    "id": "oIdhK5s2iwQz"
   },
   "source": [
    "# Model Building"
   ]
  },
  {
   "cell_type": "code",
   "execution_count": 27,
   "metadata": {
    "id": "AjdgGdduscmO"
   },
   "outputs": [],
   "source": [
    "# X Y traing/test split\n",
    "x_train, x_test, y_train, y_test = train_test_split(x.drop(['Length', 'Mass'], axis=1), y, random_state=10, test_size=0.25)"
   ]
  },
  {
   "cell_type": "code",
   "execution_count": 33,
   "metadata": {
    "id": "uJGmCcOEsbgq"
   },
   "outputs": [
    {
     "name": "stderr",
     "output_type": "stream",
     "text": [
      "/Users/ameyak/Library/Python/3.9/lib/python/site-packages/keras/src/layers/core/embedding.py:90: UserWarning: Argument `input_length` is deprecated. Just remove it.\n",
      "  warnings.warn(\n"
     ]
    }
   ],
   "source": [
    "# Model architecture construction\n",
    "model = Sequential()\n",
    "\n",
    "model.add(Embedding(10000, 32, input_length=600))\n",
    "model.add(Flatten())\n",
    "model.add(Dense(256, activation='relu'))\n",
    "model.add(Dropout(0.6))\n",
    "model.add(Dense(128, activation='relu'))\n",
    "model.add(Dropout(0.6))\n",
    "model.add(Dense(64, activation='relu'))\n",
    "model.add(Dropout(0.6))\n",
    "model.add(Dense(86, activation='sigmoid'))\n"
   ]
  },
  {
   "cell_type": "code",
   "execution_count": 34,
   "metadata": {
    "id": "bwR4A_Qsnmzg"
   },
   "outputs": [],
   "source": [
    "# Compile model\n",
    "model.compile(optimizer='adam', loss='binary_crossentropy', metrics=['accuracy'])"
   ]
  },
  {
   "cell_type": "code",
   "execution_count": 35,
   "metadata": {
    "colab": {
     "base_uri": "https://localhost:8080/"
    },
    "id": "T90Ig5LAnmwY",
    "outputId": "b61f9dce-d2a3-4faa-d5c7-0862becd58c2"
   },
   "outputs": [
    {
     "name": "stdout",
     "output_type": "stream",
     "text": [
      "Epoch 1/3\n",
      "\u001b[1m200/200\u001b[0m \u001b[32m━━━━━━━━━━━━━━━━━━━━\u001b[0m\u001b[37m\u001b[0m \u001b[1m8s\u001b[0m 33ms/step - accuracy: 0.3558 - loss: 0.3426 - val_accuracy: 0.9000 - val_loss: 0.0529\n",
      "Epoch 2/3\n",
      "\u001b[1m200/200\u001b[0m \u001b[32m━━━━━━━━━━━━━━━━━━━━\u001b[0m\u001b[37m\u001b[0m \u001b[1m7s\u001b[0m 33ms/step - accuracy: 0.8834 - loss: 0.0688 - val_accuracy: 0.9000 - val_loss: 0.0525\n",
      "Epoch 3/3\n",
      "\u001b[1m200/200\u001b[0m \u001b[32m━━━━━━━━━━━━━━━━━━━━\u001b[0m\u001b[37m\u001b[0m \u001b[1m7s\u001b[0m 36ms/step - accuracy: 0.9073 - loss: 0.0602 - val_accuracy: 0.9061 - val_loss: 0.0473\n"
     ]
    }
   ],
   "source": [
    "# Fit and train model\n",
    "fitted = model.fit(x_train, y_train, epochs=3, validation_data=(x_test, y_test), batch_size=32)"
   ]
  },
  {
   "cell_type": "code",
   "execution_count": 36,
   "metadata": {
    "colab": {
     "base_uri": "https://localhost:8080/",
     "height": 927
    },
    "id": "qfWVW2vxnmsB",
    "outputId": "42ad5544-a510-45d0-d5cf-1b66de6dcc51"
   },
   "outputs": [
    {
     "data": {
      "image/png": "[encoded data removed]",
      "text/plain": [
       "<Figure size 640x480 with 1 Axes>"
      ]
     },
     "metadata": {},
     "output_type": "display_data"
    },
    {
     "data": {
      "image/png": "[encoded data removed]",
      "text/plain": [
       "<Figure size 640x480 with 1 Axes>"
      ]
     },
     "metadata": {},
     "output_type": "display_data"
    }
   ],
   "source": [
    "#plot the training and validation accuracy and loss at each epoch\n",
    "loss = fitted.history['loss']\n",
    "val_loss = fitted.history['val_loss']\n",
    "epochs = range(1, len(loss) + 1)\n",
    "plt.plot(epochs, loss, 'y', label='Training loss')\n",
    "plt.plot(epochs, val_loss, 'r', label='Validation loss')\n",
    "plt.title('Training and validation loss')\n",
    "plt.xlabel('Epochs')\n",
    "plt.ylabel('Loss')\n",
    "plt.legend()\n",
    "plt.show()\n",
    "\n",
    "\n",
    "acc = fitted.history['accuracy']\n",
    "val_acc = fitted.history['val_accuracy']\n",
    "plt.plot(epochs, acc, 'y', label='Training acc')\n",
    "plt.plot(epochs, val_acc, 'r', label='Validation acc')\n",
    "plt.title('Training and validation accuracy')\n",
    "plt.xlabel('Epochs')\n",
    "plt.ylabel('Accuracy')\n",
    "plt.legend()\n",
    "plt.ylim(0.6,1)\n",
    "plt.show()"
   ]
  },
  {
   "cell_type": "markdown",
   "metadata": {
    "id": "xrhHel6z-Ty2"
   },
   "source": [
    "# Data Analysis"
   ]
  },
  {
   "cell_type": "code",
   "execution_count": null,
   "metadata": {
    "id": "1mccN-zSSAM0"
   },
   "outputs": [],
   "source": [
    "# Create Y prediction dataset from model predictions and collecting Y true values from original dataset\n",
    "y_pred = model.predict(x_test)\n",
    "\n",
    "y_pred = np.round(y_pred)\n",
    "y_true = np.array(y_test)\n"
   ]
  },
  {
   "cell_type": "code",
   "execution_count": null,
   "metadata": {
    "id": "ukb3zo3A4lCb"
   },
   "outputs": [],
   "source": [
    "# Confusion matrix creation\n",
    "mlconf = multilabel_confusion_matrix(y_true, y_pred)\n",
    "hamloss = hamming_loss(y_true,y_pred)\n",
    "\n",
    "disp = ConfusionMatrixDisplay(confusion_matrix=mlconf[0])\n",
    "# print(mlconf)\n",
    "disp.plot()\n",
    "plt.show()\n",
    "\n",
    "label_names = ['GO:0090729', 'GO:0005179', 'GO:0016829',\n",
    "       'GO:0046872', 'GO:0008081', 'GO:0004867', 'GO:0099106', 'GO:0015459',\n",
    "       'GO:0004252', 'GO:0005246', 'GO:0004623', 'GO:0005509', 'GO:0008200',\n",
    "       'GO:0017080', 'GO:0019834', 'GO:0008270', 'GO:0030550', 'GO:0004222',\n",
    "       'GO:0052740', 'GO:0052739', 'GO:0008970', 'GO:0050025', 'GO:0050029',\n",
    "       'GO:0106329', 'GO:0008191', 'GO:0004620', 'GO:0008233', 'GO:0016504',\n",
    "       'GO:0060422', 'GO:0000166', 'GO:0106411', 'GO:0000287', 'GO:0008237',\n",
    "       'GO:0005102', 'GO:0005216', 'GO:0008201', 'GO:0008236', 'GO:0008289',\n",
    "       'GO:0019870', 'GO:0019871', 'GO:0004465', 'GO:0016491', 'GO:0042802',\n",
    "       'GO:0047498', 'GO:0048018', 'GO:0001515', 'GO:0001716', 'GO:0042803',\n",
    "       'GO:0003677', 'GO:0050660', 'GO:0003990', 'GO:0003993', 'GO:0004175',\n",
    "       'GO:0004177', 'GO:0004415', 'GO:0008239', 'GO:0004556', 'GO:0004860',\n",
    "       'GO:0004866', 'GO:0004869', 'GO:0005154', 'GO:0005184', 'GO:0005185',\n",
    "       'GO:0005507', 'GO:0005516', 'GO:0005520', 'GO:0005534', 'GO:0030395',\n",
    "       'GO:0033296', 'GO:0008061', 'GO:0008083', 'GO:0016603', 'GO:0016787',\n",
    "       'GO:0019855', 'GO:0003676', 'GO:0016853', 'GO:0017081', 'GO:0044325',\n",
    "       'GO:0030246', 'GO:0030414', 'GO:0033906', 'GO:0043262', 'GO:0048019',\n",
    "       'GO:0070320', 'GO:0080030', 'GO:0140628']\n",
    "\n",
    "\n",
    "# Classification report, returns precision, recall, F1 score for each class\n",
    "print(classification_report(y_true, y_pred,target_names=label_names, zero_division=0))"
   ]
  },
  {
   "cell_type": "code",
   "execution_count": null,
   "metadata": {
    "id": "Lrl4mciLov9g"
   },
   "outputs": [],
   "source": [
    "# Saving the model to HDF5 file\n",
    "\n",
    "\"\"\" model.save('/content/drive/MyDrive/ML Models/venomics.hdf5') \"\"\""
   ]
  },
  {
   "cell_type": "markdown",
   "metadata": {
    "id": "lqioKmtgolRU"
   },
   "source": [
    "MODEL OUTPUT"
   ]
  },
  {
   "cell_type": "code",
   "execution_count": null,
   "metadata": {
    "id": "MLacRdh5nmFO"
   },
   "outputs": [],
   "source": [
    "# Encode inputted sequence\n",
    "classes = np.array(df.columns[3:])\n",
    "test_sequence = test_encode('MVSRYVPDMGDLIWVDFDPTKGSEQAGHRPAVVLSPFMYNNKTGMCLCVPCTTQSKGYPFEVVLSGQERDGVALADQVKSIAWRARGATKKGTVAPEELQLIKAKINVLIG')\n",
    "\n",
    "# Predict molecular function classes and get top 10\n",
    "proba = model.predict(test_sequence)\n",
    "sorted_categories = np.argsort(proba[0])[:-11:-1]\n",
    "\n",
    "\n",
    "# Output\n",
    "for i in range(10):\n",
    "    print(\"{}\".format(classes[sorted_categories[i]])+\" ({:.3})\".format(proba[0][sorted_categories[i]]))"
   ]
  },
  {
   "cell_type": "markdown",
   "metadata": {
    "id": "bcIzpwToJnVM"
   },
   "source": [
    "# Saved Model Testing\n",
    "\n"
   ]
  },
  {
   "cell_type": "code",
   "execution_count": null,
   "metadata": {
    "id": "CMfAtj1yJrKP"
   },
   "outputs": [],
   "source": [
    "# Importing saved HDF5 file of the model\n",
    "nmodel = tf.keras.models.load_model('/content/drive/MyDrive/ML Models/venomics.hdf5')"
   ]
  },
  {
   "cell_type": "code",
   "execution_count": null,
   "metadata": {
    "colab": {
     "base_uri": "https://localhost:8080/"
    },
    "id": "sBPeHIjoJx4b",
    "outputId": "c0616b5e-20bc-48b6-8807-d92c004d0639"
   },
   "outputs": [
    {
     "name": "stdout",
     "output_type": "stream",
     "text": [
      "67/67 [==============================] - 2s 3ms/step - loss: 0.0044 - accuracy: 0.9671\n"
     ]
    },
    {
     "data": {
      "text/plain": [
       "[0.004387811291962862, 0.9671207070350647]"
      ]
     },
     "execution_count": 11,
     "metadata": {},
     "output_type": "execute_result"
    }
   ],
   "source": [
    "# Testing to ensure saved model has same accuracy\n",
    "nmodel.evaluate(x_test, y_test)"
   ]
  },
  {
   "cell_type": "markdown",
   "metadata": {
    "id": "j6iIlTGzqV-J"
   },
   "source": [
    "**MODEL OUTPUT**"
   ]
  },
  {
   "cell_type": "code",
   "execution_count": null,
   "metadata": {
    "colab": {
     "base_uri": "https://localhost:8080/"
    },
    "id": "we_jXk0ZJx1k",
    "outputId": "d6ccf3c2-3a5e-482b-e94a-67cb4ebee273"
   },
   "outputs": [
    {
     "name": "stdout",
     "output_type": "stream",
     "text": [
      "1/1 [==============================] - 0s 24ms/step\n",
      "\n",
      "Amino Acid Sequence: MNFKYSILFICFGTLDRGLI...\n",
      "\n",
      "Predicted Molecular Functions: \n",
      "GO:0052740 (0.985)\n",
      "GO:0008970 (0.985)\n",
      "GO:0052739 (0.985)\n",
      "GO:0090729 (0.118)\n",
      "GO:0004623 (0.0722)\n",
      "GO:0005509 (0.00246)\n",
      "GO:0004415 (0.00145)\n",
      "GO:0008201 (0.000674)\n",
      "GO:0042802 (0.000143)\n",
      "GO:0003677 (0.000128)\n"
     ]
    }
   ],
   "source": [
    "# Encode inputted sequence\n",
    "classes = np.array(df.columns[3:])\n",
    "seq = 'MNFKYSILFICFGTLDRGLIPECPFNEYDILFFVYTRQQRDGIVLTEETLQNYDLFKKSTISRQVVFIDHGFLSNGNNENFIAMAKALIEKDNFLVISVDWKKGACNAFASTLDYLGYSTAVGNTRHVGKYVADFTKLLVEQYKVSMSNIRLIGHSLGAHTSGFAGKEVQELKLNKYSNIDGLDPAGPSFDSNDCPERLCETDAEYVQIIHTSNILGVYSKIGTVDFYMNYGSHQPGCGRFFSPSCSHTKAVKYLTECIKHECCLIGTPWKKYFSTPKPISQCTKDTCVCVGLNAKSYPARGSFYVPVEATAPYCHNEGIKL'\n",
    "test_sequence = test_encode(seq)\n",
    "\n",
    "# Predict molecular function classes and get top 10\n",
    "proba = nmodel.predict(test_sequence)\n",
    "sorted_categories = np.argsort(proba[0])[:-11:-1]\n",
    "\n",
    "# Output\n",
    "print()\n",
    "print(\"Amino Acid Sequence: \"+seq[0:20]+\"...\")\n",
    "print()\n",
    "print(\"Predicted Molecular Functions: \")\n",
    "for i in range(10):\n",
    "    print(\"{}\".format(classes[sorted_categories[i]])+\" ({:.3})\".format(proba[0][sorted_categories[i]]))"
   ]
  },
  {
   "cell_type": "markdown",
   "metadata": {
    "id": "ObNqMMpSqjZ8"
   },
   "source": [
    "**Extra Data Analysis and Testing**"
   ]
  },
  {
   "cell_type": "code",
   "execution_count": null,
   "metadata": {
    "colab": {
     "base_uri": "https://localhost:8080/"
    },
    "id": "61NPKb8xJxvE",
    "outputId": "876c2fab-37dd-4d85-e9cb-2e415ba8e6e4"
   },
   "outputs": [
    {
     "name": "stdout",
     "output_type": "stream",
     "text": [
      "67/67 [==============================] - 3s 2ms/step\n"
     ]
    }
   ],
   "source": [
    "y_pred = nmodel.predict(x_test)\n",
    "\n",
    "y_pred = np.round(y_pred)\n",
    "y_true = np.array(y_test)\n"
   ]
  },
  {
   "cell_type": "code",
   "execution_count": null,
   "metadata": {
    "colab": {
     "base_uri": "https://localhost:8080/",
     "height": 1000
    },
    "id": "t5x9L0vwJxsZ",
    "outputId": "39af21a3-0c58-4e02-8d01-d301737c9b21"
   },
   "outputs": [
    {
     "name": "stdout",
     "output_type": "stream",
     "text": [
      "[[[ 435   17]\n",
      "  [  16 1661]]\n",
      "\n",
      " [[2095    1]\n",
      "  [   2   31]]\n",
      "\n",
      " [[2080    0]\n",
      "  [   0   49]]\n",
      "\n",
      " [[1960    1]\n",
      "  [   8  160]]\n",
      "\n",
      " [[2080    1]\n",
      "  [   0   48]]\n",
      "\n",
      " [[2054    0]\n",
      "  [   1   74]]\n",
      "\n",
      " [[1928    3]\n",
      "  [   9  189]]\n",
      "\n",
      " [[1949    2]\n",
      "  [  13  165]]\n",
      "\n",
      " [[2084    0]\n",
      "  [   2   43]]\n",
      "\n",
      " [[2052    1]\n",
      "  [   8   68]]\n",
      "\n",
      " [[1997    1]\n",
      "  [   1  130]]\n",
      "\n",
      " [[2008    0]\n",
      "  [   2  119]]\n",
      "\n",
      " [[1904    3]\n",
      "  [   4  218]]\n",
      "\n",
      " [[2039    1]\n",
      "  [   4   85]]\n",
      "\n",
      " [[2127    0]\n",
      "  [   2    0]]\n",
      "\n",
      " [[2121    0]\n",
      "  [   3    5]]\n",
      "\n",
      " [[1985    3]\n",
      "  [   3  138]]\n",
      "\n",
      " [[2087    0]\n",
      "  [   2   40]]\n",
      "\n",
      " [[2121    0]\n",
      "  [   0    8]]\n",
      "\n",
      " [[2121    0]\n",
      "  [   0    8]]\n",
      "\n",
      " [[2121    0]\n",
      "  [   0    8]]\n",
      "\n",
      " [[2129    0]\n",
      "  [   0    0]]\n",
      "\n",
      " [[2129    0]\n",
      "  [   0    0]]\n",
      "\n",
      " [[2121    0]\n",
      "  [   8    0]]\n",
      "\n",
      " [[2112    0]\n",
      "  [   3   14]]\n",
      "\n",
      " [[2129    0]\n",
      "  [   0    0]]\n",
      "\n",
      " [[2127    0]\n",
      "  [   2    0]]\n",
      "\n",
      " [[2117    0]\n",
      "  [   7    5]]\n",
      "\n",
      " [[2128    0]\n",
      "  [   1    0]]\n",
      "\n",
      " [[2126    0]\n",
      "  [   3    0]]\n",
      "\n",
      " [[2127    0]\n",
      "  [   2    0]]\n",
      "\n",
      " [[2129    0]\n",
      "  [   0    0]]\n",
      "\n",
      " [[2116    0]\n",
      "  [   2   11]]\n",
      "\n",
      " [[2127    0]\n",
      "  [   2    0]]\n",
      "\n",
      " [[2129    0]\n",
      "  [   0    0]]\n",
      "\n",
      " [[2129    0]\n",
      "  [   0    0]]\n",
      "\n",
      " [[2116    0]\n",
      "  [   2   11]]\n",
      "\n",
      " [[2121    0]\n",
      "  [   4    4]]\n",
      "\n",
      " [[2115    0]\n",
      "  [   3   11]]\n",
      "\n",
      " [[1988    0]\n",
      "  [   2  139]]\n",
      "\n",
      " [[2129    0]\n",
      "  [   0    0]]\n",
      "\n",
      " [[2126    0]\n",
      "  [   3    0]]\n",
      "\n",
      " [[2124    0]\n",
      "  [   5    0]]\n",
      "\n",
      " [[2129    0]\n",
      "  [   0    0]]\n",
      "\n",
      " [[2129    0]\n",
      "  [   0    0]]\n",
      "\n",
      " [[2129    0]\n",
      "  [   0    0]]\n",
      "\n",
      " [[2114    4]\n",
      "  [   5    6]]\n",
      "\n",
      " [[2126    0]\n",
      "  [   3    0]]\n",
      "\n",
      " [[2118    0]\n",
      "  [   1   10]]\n",
      "\n",
      " [[2127    0]\n",
      "  [   2    0]]\n",
      "\n",
      " [[2127    0]\n",
      "  [   2    0]]\n",
      "\n",
      " [[2128    0]\n",
      "  [   1    0]]\n",
      "\n",
      " [[2129    0]\n",
      "  [   0    0]]\n",
      "\n",
      " [[2128    0]\n",
      "  [   1    0]]\n",
      "\n",
      " [[2122    0]\n",
      "  [   2    5]]\n",
      "\n",
      " [[2128    0]\n",
      "  [   1    0]]\n",
      "\n",
      " [[2129    0]\n",
      "  [   0    0]]\n",
      "\n",
      " [[2126    0]\n",
      "  [   3    0]]\n",
      "\n",
      " [[2129    0]\n",
      "  [   0    0]]\n",
      "\n",
      " [[2124    0]\n",
      "  [   0    5]]\n",
      "\n",
      " [[2129    0]\n",
      "  [   0    0]]\n",
      "\n",
      " [[2128    0]\n",
      "  [   1    0]]\n",
      "\n",
      " [[2129    0]\n",
      "  [   0    0]]\n",
      "\n",
      " [[2125    0]\n",
      "  [   0    4]]\n",
      "\n",
      " [[2125    0]\n",
      "  [   4    0]]\n",
      "\n",
      " [[2129    0]\n",
      "  [   0    0]]\n",
      "\n",
      " [[2129    0]\n",
      "  [   0    0]]\n",
      "\n",
      " [[2129    0]\n",
      "  [   0    0]]\n",
      "\n",
      " [[2129    0]\n",
      "  [   0    0]]\n",
      "\n",
      " [[2127    0]\n",
      "  [   2    0]]\n",
      "\n",
      " [[2118    0]\n",
      "  [   2    9]]\n",
      "\n",
      " [[2129    0]\n",
      "  [   0    0]]\n",
      "\n",
      " [[2128    0]\n",
      "  [   1    0]]\n",
      "\n",
      " [[2109    1]\n",
      "  [   2   17]]\n",
      "\n",
      " [[2126    0]\n",
      "  [   1    2]]\n",
      "\n",
      " [[2129    0]\n",
      "  [   0    0]]\n",
      "\n",
      " [[2122    0]\n",
      "  [   1    6]]\n",
      "\n",
      " [[2129    0]\n",
      "  [   0    0]]\n",
      "\n",
      " [[2113    0]\n",
      "  [   2   14]]\n",
      "\n",
      " [[2119    0]\n",
      "  [   1    9]]\n",
      "\n",
      " [[2128    0]\n",
      "  [   1    0]]\n",
      "\n",
      " [[2127    0]\n",
      "  [   0    2]]\n",
      "\n",
      " [[2129    0]\n",
      "  [   0    0]]\n",
      "\n",
      " [[2129    0]\n",
      "  [   0    0]]\n",
      "\n",
      " [[2129    0]\n",
      "  [   0    0]]\n",
      "\n",
      " [[2129    0]\n",
      "  [   0    0]]]\n"
     ]
    },
    {
     "data": {
      "image/png": "[encoded data removed]",
      "text/plain": [
       "<Figure size 432x288 with 2 Axes>"
      ]
     },
     "metadata": {
      "needs_background": "light"
     },
     "output_type": "display_data"
    },
    {
     "name": "stdout",
     "output_type": "stream",
     "text": [
      "              precision    recall  f1-score   support\n",
      "\n",
      "  GO:0090729       0.99      0.99      0.99      1677\n",
      "  GO:0005179       0.97      0.94      0.95        33\n",
      "  GO:0016829       1.00      1.00      1.00        49\n",
      "  GO:0046872       0.99      0.95      0.97       168\n",
      "  GO:0008081       0.98      1.00      0.99        48\n",
      "  GO:0004867       1.00      0.99      0.99        75\n",
      "  GO:0099106       0.98      0.95      0.97       198\n",
      "  GO:0015459       0.99      0.93      0.96       178\n",
      "  GO:0004252       1.00      0.96      0.98        45\n",
      "  GO:0005246       0.99      0.89      0.94        76\n",
      "  GO:0004623       0.99      0.99      0.99       131\n",
      "  GO:0005509       1.00      0.98      0.99       121\n",
      "  GO:0008200       0.99      0.98      0.98       222\n",
      "  GO:0017080       0.99      0.96      0.97        89\n",
      "  GO:0019834       0.00      0.00      0.00         2\n",
      "  GO:0008270       1.00      0.62      0.77         8\n",
      "  GO:0030550       0.98      0.98      0.98       141\n",
      "  GO:0004222       1.00      0.95      0.98        42\n",
      "  GO:0052740       1.00      1.00      1.00         8\n",
      "  GO:0052739       1.00      1.00      1.00         8\n",
      "  GO:0008970       1.00      1.00      1.00         8\n",
      "  GO:0050025       0.00      0.00      0.00         0\n",
      "  GO:0050029       0.00      0.00      0.00         0\n",
      "  GO:0106329       0.00      0.00      0.00         8\n",
      "  GO:0008191       1.00      0.82      0.90        17\n",
      "  GO:0004620       0.00      0.00      0.00         0\n",
      "  GO:0008233       0.00      0.00      0.00         2\n",
      "  GO:0016504       1.00      0.42      0.59        12\n",
      "  GO:0060422       0.00      0.00      0.00         1\n",
      "  GO:0000166       0.00      0.00      0.00         3\n",
      "  GO:0106411       0.00      0.00      0.00         2\n",
      "  GO:0000287       0.00      0.00      0.00         0\n",
      "  GO:0008237       1.00      0.85      0.92        13\n",
      "  GO:0005102       0.00      0.00      0.00         2\n",
      "  GO:0005216       0.00      0.00      0.00         0\n",
      "  GO:0008201       0.00      0.00      0.00         0\n",
      "  GO:0008236       1.00      0.85      0.92        13\n",
      "  GO:0008289       1.00      0.50      0.67         8\n",
      "  GO:0019870       1.00      0.79      0.88        14\n",
      "  GO:0019871       1.00      0.99      0.99       141\n",
      "  GO:0004465       0.00      0.00      0.00         0\n",
      "  GO:0016491       0.00      0.00      0.00         3\n",
      "  GO:0042802       0.00      0.00      0.00         5\n",
      "  GO:0047498       0.00      0.00      0.00         0\n",
      "  GO:0048018       0.00      0.00      0.00         0\n",
      "  GO:0001515       0.00      0.00      0.00         0\n",
      "  GO:0001716       0.60      0.55      0.57        11\n",
      "  GO:0042803       0.00      0.00      0.00         3\n",
      "  GO:0003677       1.00      0.91      0.95        11\n",
      "  GO:0050660       0.00      0.00      0.00         2\n",
      "  GO:0003990       0.00      0.00      0.00         2\n",
      "  GO:0003993       0.00      0.00      0.00         1\n",
      "  GO:0004175       0.00      0.00      0.00         0\n",
      "  GO:0004177       0.00      0.00      0.00         1\n",
      "  GO:0004415       1.00      0.71      0.83         7\n",
      "  GO:0008239       0.00      0.00      0.00         1\n",
      "  GO:0004556       0.00      0.00      0.00         0\n",
      "  GO:0004860       0.00      0.00      0.00         3\n",
      "  GO:0004866       0.00      0.00      0.00         0\n",
      "  GO:0004869       1.00      1.00      1.00         5\n",
      "  GO:0005154       0.00      0.00      0.00         0\n",
      "  GO:0005184       0.00      0.00      0.00         1\n",
      "  GO:0005185       0.00      0.00      0.00         0\n",
      "  GO:0005507       1.00      1.00      1.00         4\n",
      "  GO:0005516       0.00      0.00      0.00         4\n",
      "  GO:0005520       0.00      0.00      0.00         0\n",
      "  GO:0005534       0.00      0.00      0.00         0\n",
      "  GO:0030395       0.00      0.00      0.00         0\n",
      "  GO:0033296       0.00      0.00      0.00         0\n",
      "  GO:0008061       0.00      0.00      0.00         2\n",
      "  GO:0008083       1.00      0.82      0.90        11\n",
      "  GO:0016603       0.00      0.00      0.00         0\n",
      "  GO:0016787       0.00      0.00      0.00         1\n",
      "  GO:0019855       0.94      0.89      0.92        19\n",
      "  GO:0003676       1.00      0.67      0.80         3\n",
      "  GO:0016853       0.00      0.00      0.00         0\n",
      "  GO:0017081       1.00      0.86      0.92         7\n",
      "  GO:0044325       0.00      0.00      0.00         0\n",
      "  GO:0030246       1.00      0.88      0.93        16\n",
      "  GO:0030414       1.00      0.90      0.95        10\n",
      "  GO:0033906       0.00      0.00      0.00         1\n",
      "  GO:0043262       1.00      1.00      1.00         2\n",
      "  GO:0048019       0.00      0.00      0.00         0\n",
      "  GO:0070320       0.00      0.00      0.00         0\n",
      "  GO:0080030       0.00      0.00      0.00         0\n",
      "  GO:0140628       0.00      0.00      0.00         0\n",
      "\n",
      "   micro avg       0.99      0.95      0.97      3699\n",
      "   macro avg       0.45      0.40      0.42      3699\n",
      "weighted avg       0.98      0.95      0.96      3699\n",
      " samples avg       0.85      0.83      0.84      3699\n",
      "\n"
     ]
    }
   ],
   "source": [
    "mlconf = multilabel_confusion_matrix(y_true, y_pred)\n",
    "hamloss = hamming_loss(y_true,y_pred)\n",
    "\n",
    "disp = ConfusionMatrixDisplay(confusion_matrix=mlconf[0])\n",
    "print(mlconf)\n",
    "disp.plot()\n",
    "plt.show()\n",
    "\n",
    "\n",
    "label_names = ['GO:0090729', 'GO:0005179', 'GO:0016829',\n",
    "       'GO:0046872', 'GO:0008081', 'GO:0004867', 'GO:0099106', 'GO:0015459',\n",
    "       'GO:0004252', 'GO:0005246', 'GO:0004623', 'GO:0005509', 'GO:0008200',\n",
    "       'GO:0017080', 'GO:0019834', 'GO:0008270', 'GO:0030550', 'GO:0004222',\n",
    "       'GO:0052740', 'GO:0052739', 'GO:0008970', 'GO:0050025', 'GO:0050029',\n",
    "       'GO:0106329', 'GO:0008191', 'GO:0004620', 'GO:0008233', 'GO:0016504',\n",
    "       'GO:0060422', 'GO:0000166', 'GO:0106411', 'GO:0000287', 'GO:0008237',\n",
    "       'GO:0005102', 'GO:0005216', 'GO:0008201', 'GO:0008236', 'GO:0008289',\n",
    "       'GO:0019870', 'GO:0019871', 'GO:0004465', 'GO:0016491', 'GO:0042802',\n",
    "       'GO:0047498', 'GO:0048018', 'GO:0001515', 'GO:0001716', 'GO:0042803',\n",
    "       'GO:0003677', 'GO:0050660', 'GO:0003990', 'GO:0003993', 'GO:0004175',\n",
    "       'GO:0004177', 'GO:0004415', 'GO:0008239', 'GO:0004556', 'GO:0004860',\n",
    "       'GO:0004866', 'GO:0004869', 'GO:0005154', 'GO:0005184', 'GO:0005185',\n",
    "       'GO:0005507', 'GO:0005516', 'GO:0005520', 'GO:0005534', 'GO:0030395',\n",
    "       'GO:0033296', 'GO:0008061', 'GO:0008083', 'GO:0016603', 'GO:0016787',\n",
    "       'GO:0019855', 'GO:0003676', 'GO:0016853', 'GO:0017081', 'GO:0044325',\n",
    "       'GO:0030246', 'GO:0030414', 'GO:0033906', 'GO:0043262', 'GO:0048019',\n",
    "       'GO:0070320', 'GO:0080030', 'GO:0140628']\n",
    "\n",
    "print(classification_report(y_true, y_pred,target_names=label_names, zero_division=0))"
   ]
  },
  {
   "cell_type": "code",
   "execution_count": null,
   "metadata": {
    "id": "eOJmOPW6Adez"
   },
   "outputs": [],
   "source": []
  },
  {
   "cell_type": "code",
   "execution_count": null,
   "metadata": {
    "id": "OnpOgr-uJxmc"
   },
   "outputs": [],
   "source": []
  },
  {
   "cell_type": "code",
   "execution_count": null,
   "metadata": {
    "id": "WaKZsgTAJxgc"
   },
   "outputs": [],
   "source": []
  },
  {
   "cell_type": "code",
   "execution_count": null,
   "metadata": {
    "id": "AzWy0KGmJxdF"
   },
   "outputs": [],
   "source": []
  }
 ],
 "metadata": {
  "accelerator": "GPU",
  "colab": {
   "provenance": []
  },
  "gpuClass": "standard",
  "kernelspec": {
   "display_name": "Python 3",
   "name": "python3"
  },
  "language_info": {
   "codemirror_mode": {
    "name": "ipython",
    "version": 3
   },
   "file_extension": ".py",
   "mimetype": "text/x-python",
   "name": "python",
   "nbconvert_exporter": "python",
   "pygments_lexer": "ipython3",
   "version": "3.9.6"
  }
 },
 "nbformat": 4,
 "nbformat_minor": 0
}
